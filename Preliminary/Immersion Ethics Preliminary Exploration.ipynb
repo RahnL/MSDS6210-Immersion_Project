{
 "cells": [
  {
   "cell_type": "code",
   "execution_count": 9,
   "metadata": {
    "collapsed": false
   },
   "outputs": [],
   "source": [
    "import pandas as pd\n",
    "import pandas_profiling"
   ]
  },
  {
   "cell_type": "markdown",
   "metadata": {},
   "source": [
    "“Uninsured blacks with incomes that would make them eligible for Medicaid under the law are more likely to live in the 22 states that have not yet chosen to expand their Medicaid programs.11 What’s more, several states with some of the largest black or Hispanic populations—Florida, Georgia, North Carolina, Texas, and Virginia—are also among the 34 states relying on the federal government to run their health insurance marketplace.”"
   ]
  },
  {
   "cell_type": "code",
   "execution_count": 23,
   "metadata": {
    "collapsed": false
   },
   "outputs": [
    {
     "name": "stderr",
     "output_type": "stream",
     "text": [
      "C:\\Users\\ryan.shuhart\\AppData\\Local\\Continuum\\Anaconda3\\lib\\site-packages\\IPython\\core\\interactiveshell.py:2723: DtypeWarning: Columns (120) have mixed types. Specify dtype option on import or set low_memory=False.\n",
      "  interactivity=interactivity, compiler=compiler, result=result)\n"
     ]
    }
   ],
   "source": [
    "#http://stackoverflow.com/questions/18171739/unicodedecodeerror-when-reading-csv-file-in-pandas-with-python\n",
    "df = pd.read_csv(\"..\\\\data\\\\LLCP2014XPT.txt\", sep=\"\\t\", error_bad_lines=False, \n",
    "                 warn_bad_lines=True, encoding = \"ISO-8859-1\") #nrows=1000,\n",
    "#df.to_csv('sample.csv')"
   ]
  },
  {
   "cell_type": "code",
   "execution_count": 16,
   "metadata": {
    "collapsed": false
   },
   "outputs": [
    {
     "name": "stdout",
     "output_type": "stream",
     "text": [
      "   _STATE  FMONTH    IDATE  IMONTH  IDAY  IYEAR  DISPCODE       SEQNO  \\\n",
      "0       1       1  1172014       1    17   2014      1100  2014000001   \n",
      "1       1       1  1072014       1     7   2014      1100  2014000002   \n",
      "2       1       1  1092014       1     9   2014      1100  2014000003   \n",
      "3       1       1  1072014       1     7   2014      1100  2014000004   \n",
      "4       1       1  1162014       1    16   2014      1100  2014000005   \n",
      "\n",
      "         _PSU  CTELENUM    ...     _FOBTFS  _CRCREC  _AIDTST3  _IMPEDUC  \\\n",
      "0  2014000001       1.0    ...         2.0      1.0       2.0         5   \n",
      "1  2014000002       1.0    ...         2.0      2.0       2.0         4   \n",
      "2  2014000003       1.0    ...         2.0      2.0       2.0         6   \n",
      "3  2014000004       1.0    ...         2.0      1.0       2.0         6   \n",
      "4  2014000005       1.0    ...         2.0      1.0       2.0         5   \n",
      "\n",
      "   _IMPMRTL  _IMPHOME  RCSBRAC1  RCSRACE1  RCHISLA1  RCSBIRTH  \n",
      "0         1         1       NaN       NaN       NaN       NaN  \n",
      "1         1         1       NaN       NaN       NaN       NaN  \n",
      "2         1         1       NaN       NaN       NaN       NaN  \n",
      "3         3         1       NaN       NaN       NaN       NaN  \n",
      "4         1         1       NaN       NaN       NaN       NaN  \n",
      "\n",
      "[5 rows x 279 columns]\n"
     ]
    }
   ],
   "source": [
    "print(df.head())\n",
    "#print(df.columns.values)"
   ]
  },
  {
   "cell_type": "code",
   "execution_count": 22,
   "metadata": {
    "collapsed": false
   },
   "outputs": [
    {
     "data": {
      "text/plain": [
       "_STATE  IYEAR  _PRACE1  HLTHPLN1\n",
       "1       2014   1.0      1           5633\n",
       "                        2            456\n",
       "                        7              4\n",
       "                        9              9\n",
       "               2.0      1           1910\n",
       "                        2            303\n",
       "                        7              4\n",
       "                        9              2\n",
       "               3.0      1             92\n",
       "                        2             14\n",
       "                        9              1\n",
       "               4.0      1             38\n",
       "                        2              5\n",
       "                        7              1\n",
       "               5.0      1              5\n",
       "                        2              1\n",
       "               6.0      1             63\n",
       "                        2             20\n",
       "               7.0      1              6\n",
       "               8.0      1              2\n",
       "               77.0     1             10\n",
       "                        2              2\n",
       "               99.0     1             40\n",
       "                        2              4\n",
       "        2015   1.0      1             13\n",
       "                        2              1\n",
       "               2.0      1             11\n",
       "               3.0      1              1\n",
       "               6.0      1              1\n",
       "Name: HLTHPLN1, dtype: int64"
      ]
     },
     "execution_count": 22,
     "metadata": {},
     "output_type": "execute_result"
    }
   ],
   "source": [
    "(df[df['_STATE']==1][['_STATE','IYEAR','_PRACE1','HLTHPLN1']]\n",
    " .groupby(['_STATE','IYEAR','_PRACE1','HLTHPLN1'])['HLTHPLN1']\n",
    " .count()\n",
    " )"
   ]
  },
  {
   "cell_type": "code",
   "execution_count": 20,
   "metadata": {
    "collapsed": false
   },
   "outputs": [],
   "source": [
    "#profile = pandas_profiling.ProfileReport(df)\n",
    "#profile.to_file(outputfile=\"myoutputfile.html\")"
   ]
  },
  {
   "cell_type": "code",
   "execution_count": null,
   "metadata": {
    "collapsed": false
   },
   "outputs": [],
   "source": []
  }
 ],
 "metadata": {
  "kernelspec": {
   "display_name": "Python 3",
   "language": "python",
   "name": "python3"
  },
  "language_info": {
   "codemirror_mode": {
    "name": "ipython",
    "version": 3
   },
   "file_extension": ".py",
   "mimetype": "text/x-python",
   "name": "python",
   "nbconvert_exporter": "python",
   "pygments_lexer": "ipython3",
   "version": "3.5.1"
  }
 },
 "nbformat": 4,
 "nbformat_minor": 0
}
